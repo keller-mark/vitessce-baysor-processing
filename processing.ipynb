{
 "cells": [
  {
   "cell_type": "code",
   "execution_count": 19,
   "id": "cc82c8b3",
   "metadata": {},
   "outputs": [],
   "source": [
    "import json\n",
    "import pandas as pd\n",
    "import numpy as np\n",
    "from anndata import AnnData\n",
    "from os.path import join\n",
    "import geopandas as gpd\n",
    "from shapely.geometry import Point, Polygon, MultiPoint, MultiPolygon, shape"
   ]
  },
  {
   "cell_type": "code",
   "execution_count": 20,
   "id": "3219b41e",
   "metadata": {},
   "outputs": [],
   "source": [
    "df = pd.read_csv(join(\"data\", \"segmentation.csv\"))"
   ]
  },
  {
   "cell_type": "code",
   "execution_count": 21,
   "id": "27aaa39a",
   "metadata": {},
   "outputs": [],
   "source": [
    "with open(join(\"data\", \"poly_per_z.json\")) as f:\n",
    "    poly_per_z = json.load(f)"
   ]
  },
  {
   "cell_type": "code",
   "execution_count": 22,
   "id": "60f5a372",
   "metadata": {},
   "outputs": [
    {
     "data": {
      "text/html": [
       "<div>\n",
       "<style scoped>\n",
       "    .dataframe tbody tr th:only-of-type {\n",
       "        vertical-align: middle;\n",
       "    }\n",
       "\n",
       "    .dataframe tbody tr th {\n",
       "        vertical-align: top;\n",
       "    }\n",
       "\n",
       "    .dataframe thead th {\n",
       "        text-align: right;\n",
       "    }\n",
       "</style>\n",
       "<table border=\"1\" class=\"dataframe\">\n",
       "  <thead>\n",
       "    <tr style=\"text-align: right;\">\n",
       "      <th></th>\n",
       "      <th>mol_id</th>\n",
       "      <th>x_raw</th>\n",
       "      <th>y_raw</th>\n",
       "      <th>z_raw</th>\n",
       "      <th>gene</th>\n",
       "      <th>area</th>\n",
       "      <th>brightness</th>\n",
       "      <th>total_magnitude</th>\n",
       "      <th>qc_score</th>\n",
       "      <th>x</th>\n",
       "      <th>y</th>\n",
       "      <th>z</th>\n",
       "      <th>molecule_id</th>\n",
       "      <th>confidence</th>\n",
       "      <th>compartment</th>\n",
       "      <th>nuclei_probs</th>\n",
       "      <th>cell</th>\n",
       "      <th>assignment_confidence</th>\n",
       "      <th>is_noise</th>\n",
       "      <th>ncv_color</th>\n",
       "    </tr>\n",
       "  </thead>\n",
       "  <tbody>\n",
       "    <tr>\n",
       "      <th>0</th>\n",
       "      <td>3048145</td>\n",
       "      <td>-2935.386</td>\n",
       "      <td>-1218.580</td>\n",
       "      <td>2.5</td>\n",
       "      <td>Maoa</td>\n",
       "      <td>4</td>\n",
       "      <td>2.021306</td>\n",
       "      <td>420.1126</td>\n",
       "      <td>0.954363</td>\n",
       "      <td>1705.0</td>\n",
       "      <td>1271.0</td>\n",
       "      <td>0.0</td>\n",
       "      <td>1</td>\n",
       "      <td>0.80133</td>\n",
       "      <td>Unknown</td>\n",
       "      <td>1.0</td>\n",
       "      <td>75</td>\n",
       "      <td>0.625</td>\n",
       "      <td>False</td>\n",
       "      <td>#A1750D</td>\n",
       "    </tr>\n",
       "    <tr>\n",
       "      <th>1</th>\n",
       "      <td>3048147</td>\n",
       "      <td>-2933.229</td>\n",
       "      <td>-1147.614</td>\n",
       "      <td>2.5</td>\n",
       "      <td>Maoa</td>\n",
       "      <td>4</td>\n",
       "      <td>1.828640</td>\n",
       "      <td>269.5874</td>\n",
       "      <td>0.908246</td>\n",
       "      <td>1725.0</td>\n",
       "      <td>1922.0</td>\n",
       "      <td>0.0</td>\n",
       "      <td>2</td>\n",
       "      <td>1.00000</td>\n",
       "      <td>Unknown</td>\n",
       "      <td>1.0</td>\n",
       "      <td>189</td>\n",
       "      <td>0.950</td>\n",
       "      <td>False</td>\n",
       "      <td>#605211</td>\n",
       "    </tr>\n",
       "    <tr>\n",
       "      <th>2</th>\n",
       "      <td>3048148</td>\n",
       "      <td>-2930.104</td>\n",
       "      <td>-1154.062</td>\n",
       "      <td>2.5</td>\n",
       "      <td>Maoa</td>\n",
       "      <td>5</td>\n",
       "      <td>2.001268</td>\n",
       "      <td>501.4615</td>\n",
       "      <td>0.977219</td>\n",
       "      <td>1753.0</td>\n",
       "      <td>1863.0</td>\n",
       "      <td>0.0</td>\n",
       "      <td>3</td>\n",
       "      <td>1.00000</td>\n",
       "      <td>Unknown</td>\n",
       "      <td>1.0</td>\n",
       "      <td>188</td>\n",
       "      <td>1.000</td>\n",
       "      <td>False</td>\n",
       "      <td>#615210</td>\n",
       "    </tr>\n",
       "    <tr>\n",
       "      <th>3</th>\n",
       "      <td>3048149</td>\n",
       "      <td>-2929.339</td>\n",
       "      <td>-1153.784</td>\n",
       "      <td>2.5</td>\n",
       "      <td>Maoa</td>\n",
       "      <td>7</td>\n",
       "      <td>1.960428</td>\n",
       "      <td>639.0364</td>\n",
       "      <td>0.991316</td>\n",
       "      <td>1760.0</td>\n",
       "      <td>1865.0</td>\n",
       "      <td>0.0</td>\n",
       "      <td>4</td>\n",
       "      <td>1.00000</td>\n",
       "      <td>Unknown</td>\n",
       "      <td>1.0</td>\n",
       "      <td>188</td>\n",
       "      <td>1.000</td>\n",
       "      <td>False</td>\n",
       "      <td>#605212</td>\n",
       "    </tr>\n",
       "    <tr>\n",
       "      <th>4</th>\n",
       "      <td>3048153</td>\n",
       "      <td>-2913.718</td>\n",
       "      <td>-1270.474</td>\n",
       "      <td>2.5</td>\n",
       "      <td>Maoa</td>\n",
       "      <td>6</td>\n",
       "      <td>1.937280</td>\n",
       "      <td>519.3154</td>\n",
       "      <td>0.983210</td>\n",
       "      <td>1904.0</td>\n",
       "      <td>794.0</td>\n",
       "      <td>0.0</td>\n",
       "      <td>5</td>\n",
       "      <td>0.33546</td>\n",
       "      <td>Unknown</td>\n",
       "      <td>1.0</td>\n",
       "      <td>0</td>\n",
       "      <td>0.575</td>\n",
       "      <td>True</td>\n",
       "      <td>#EBE2C7</td>\n",
       "    </tr>\n",
       "  </tbody>\n",
       "</table>\n",
       "</div>"
      ],
      "text/plain": [
       "    mol_id     x_raw     y_raw  z_raw  gene  area  brightness  \\\n",
       "0  3048145 -2935.386 -1218.580    2.5  Maoa     4    2.021306   \n",
       "1  3048147 -2933.229 -1147.614    2.5  Maoa     4    1.828640   \n",
       "2  3048148 -2930.104 -1154.062    2.5  Maoa     5    2.001268   \n",
       "3  3048149 -2929.339 -1153.784    2.5  Maoa     7    1.960428   \n",
       "4  3048153 -2913.718 -1270.474    2.5  Maoa     6    1.937280   \n",
       "\n",
       "   total_magnitude  qc_score       x       y    z  molecule_id  confidence  \\\n",
       "0         420.1126  0.954363  1705.0  1271.0  0.0            1     0.80133   \n",
       "1         269.5874  0.908246  1725.0  1922.0  0.0            2     1.00000   \n",
       "2         501.4615  0.977219  1753.0  1863.0  0.0            3     1.00000   \n",
       "3         639.0364  0.991316  1760.0  1865.0  0.0            4     1.00000   \n",
       "4         519.3154  0.983210  1904.0   794.0  0.0            5     0.33546   \n",
       "\n",
       "  compartment  nuclei_probs  cell  assignment_confidence  is_noise ncv_color  \n",
       "0     Unknown           1.0    75                  0.625     False   #A1750D  \n",
       "1     Unknown           1.0   189                  0.950     False   #605211  \n",
       "2     Unknown           1.0   188                  1.000     False   #615210  \n",
       "3     Unknown           1.0   188                  1.000     False   #605212  \n",
       "4     Unknown           1.0     0                  0.575      True   #EBE2C7  "
      ]
     },
     "execution_count": 22,
     "metadata": {},
     "output_type": "execute_result"
    }
   ],
   "source": [
    "df.head()"
   ]
  },
  {
   "cell_type": "code",
   "execution_count": 23,
   "id": "8a12881a-40a4-402c-919e-032e9ad3b50a",
   "metadata": {},
   "outputs": [],
   "source": [
    "# Take only the zeroth Z slice (for now)\n",
    "mol_slice_df = df.loc[df[\"z\"] == 0]\n",
    "poly_slice = poly_per_z[0][\"geometries\"]\n",
    "\n",
    "mol_geometry = gpd.points_from_xy(x=mol_slice_df[\"x\"], y=mol_slice_df[\"y\"])\n",
    "\n",
    "mol_slice_gdf = gpd.GeoDataFrame(mol_slice_df, geometry=mol_geometry)\n",
    "mol_slice_gdf;"
   ]
  },
  {
   "cell_type": "code",
   "execution_count": 24,
   "id": "47307321-4629-4663-bcd4-fc44df3418cf",
   "metadata": {},
   "outputs": [],
   "source": [
    "poly_slice_gdf = gpd.GeoDataFrame(geometry=[ shape(x) for x in poly_slice ])\n",
    "poly_slice_gdf;"
   ]
  },
  {
   "cell_type": "code",
   "execution_count": 25,
   "id": "59eeed4e-7b59-4536-ae13-255332f0d125",
   "metadata": {},
   "outputs": [],
   "source": [
    "# Join the molecule points with their intersecting polygons.\n",
    "mol_with_poly_gdf = gpd.sjoin(mol_slice_gdf, poly_slice_gdf, how=\"left\", op=\"intersects\")\n",
    "mol_with_poly_gdf = mol_with_poly_gdf.rename(columns={\"index_right\": \"poly_index\"})"
   ]
  },
  {
   "cell_type": "code",
   "execution_count": 26,
   "id": "a37b6084-b421-4af1-9285-b592cff3613e",
   "metadata": {},
   "outputs": [],
   "source": [
    "df = mol_with_poly_gdf"
   ]
  },
  {
   "cell_type": "code",
   "execution_count": 27,
   "id": "5b394eb9",
   "metadata": {},
   "outputs": [
    {
     "data": {
      "text/plain": [
       "(3741,)"
      ]
     },
     "execution_count": 27,
     "metadata": {},
     "output_type": "execute_result"
    }
   ],
   "source": [
    "df[\"poly_index\"].unique().shape"
   ]
  },
  {
   "cell_type": "code",
   "execution_count": 28,
   "id": "b6ac5b8d",
   "metadata": {},
   "outputs": [],
   "source": [
    "df = df.loc[pd.notna(df[\"poly_index\"])]"
   ]
  },
  {
   "cell_type": "code",
   "execution_count": 29,
   "id": "97c1fcab-8e60-49f1-8c6b-ef13908c35f8",
   "metadata": {},
   "outputs": [
    {
     "name": "stderr",
     "output_type": "stream",
     "text": [
      "/Users/mkeller/anaconda3/envs/vitessce-baysor-env/lib/python3.9/site-packages/geopandas/geodataframe.py:1322: SettingWithCopyWarning: \n",
      "A value is trying to be set on a copy of a slice from a DataFrame.\n",
      "Try using .loc[row_indexer,col_indexer] = value instead\n",
      "\n",
      "See the caveats in the documentation: https://pandas.pydata.org/pandas-docs/stable/user_guide/indexing.html#returning-a-view-versus-a-copy\n",
      "  super(GeoDataFrame, self).__setitem__(key, value)\n"
     ]
    }
   ],
   "source": [
    "df[\"poly_index\"] = df[\"poly_index\"].astype(int)"
   ]
  },
  {
   "cell_type": "code",
   "execution_count": 30,
   "id": "0c712472",
   "metadata": {},
   "outputs": [
    {
     "data": {
      "text/plain": [
       "array(['Unknown', 'Nuclei', 'Cyto'], dtype=object)"
      ]
     },
     "execution_count": 30,
     "metadata": {},
     "output_type": "execute_result"
    }
   ],
   "source": [
    "df[\"compartment\"].unique()"
   ]
  },
  {
   "cell_type": "code",
   "execution_count": 31,
   "id": "6fef8e46",
   "metadata": {},
   "outputs": [
    {
     "data": {
      "text/plain": [
       "{0.0: 0}"
      ]
     },
     "execution_count": 31,
     "metadata": {},
     "output_type": "execute_result"
    }
   ],
   "source": [
    "z_vals = sorted(df[\"z\"].unique())\n",
    "z_to_z_index = dict(zip(z_vals, range(len(z_vals))))\n",
    "z_to_z_index"
   ]
  },
  {
   "cell_type": "code",
   "execution_count": 32,
   "id": "d60002ee",
   "metadata": {},
   "outputs": [],
   "source": [
    "df[\"z_index\"] = df[\"z\"].apply(lambda z: z_to_z_index[z])"
   ]
  },
  {
   "cell_type": "markdown",
   "id": "52304bfe",
   "metadata": {},
   "source": [
    "## Save molecules data"
   ]
  },
  {
   "cell_type": "code",
   "execution_count": 35,
   "id": "8254fb1d",
   "metadata": {},
   "outputs": [],
   "source": [
    "molecules_json = {}\n",
    "for gene_id, gene_df in df.groupby(\"gene\"):\n",
    "    molecules_json[gene_id] = gene_df[[\"x\", \"y\"]].values.tolist()\n",
    "    #molecules_json[gene_id] = gene_df[[\"x\", \"y\", \"z_index\"]].values.tolist()"
   ]
  },
  {
   "cell_type": "code",
   "execution_count": 36,
   "id": "08ae5534",
   "metadata": {},
   "outputs": [],
   "source": [
    "with open(join(\"data\", \"molecules.json\"), \"w\") as f:\n",
    "    json.dump(molecules_json, f)"
   ]
  },
  {
   "cell_type": "markdown",
   "id": "bea54edd",
   "metadata": {},
   "source": [
    "## Unmelt to get per-cell molecule counts for the zeroth z slice"
   ]
  },
  {
   "cell_type": "code",
   "execution_count": 37,
   "id": "68450395",
   "metadata": {},
   "outputs": [
    {
     "data": {
      "text/html": [
       "<div>\n",
       "<style scoped>\n",
       "    .dataframe tbody tr th:only-of-type {\n",
       "        vertical-align: middle;\n",
       "    }\n",
       "\n",
       "    .dataframe tbody tr th {\n",
       "        vertical-align: top;\n",
       "    }\n",
       "\n",
       "    .dataframe thead th {\n",
       "        text-align: right;\n",
       "    }\n",
       "</style>\n",
       "<table border=\"1\" class=\"dataframe\">\n",
       "  <thead>\n",
       "    <tr style=\"text-align: right;\">\n",
       "      <th></th>\n",
       "      <th>Acsl1</th>\n",
       "      <th>Acta2</th>\n",
       "      <th>Ada</th>\n",
       "      <th>Adgrd1</th>\n",
       "      <th>Adgrf5</th>\n",
       "      <th>Adra1a</th>\n",
       "      <th>Adra1b</th>\n",
       "      <th>Adra1d</th>\n",
       "      <th>Adra2a</th>\n",
       "      <th>Adra2b</th>\n",
       "      <th>...</th>\n",
       "      <th>Tm4sf4</th>\n",
       "      <th>Tnfrsf21</th>\n",
       "      <th>Tpsb2</th>\n",
       "      <th>Trdc</th>\n",
       "      <th>Trpm5</th>\n",
       "      <th>Tspan13</th>\n",
       "      <th>Txndc5</th>\n",
       "      <th>Tymp</th>\n",
       "      <th>Vcan</th>\n",
       "      <th>Vim</th>\n",
       "    </tr>\n",
       "    <tr>\n",
       "      <th>poly_index</th>\n",
       "      <th></th>\n",
       "      <th></th>\n",
       "      <th></th>\n",
       "      <th></th>\n",
       "      <th></th>\n",
       "      <th></th>\n",
       "      <th></th>\n",
       "      <th></th>\n",
       "      <th></th>\n",
       "      <th></th>\n",
       "      <th></th>\n",
       "      <th></th>\n",
       "      <th></th>\n",
       "      <th></th>\n",
       "      <th></th>\n",
       "      <th></th>\n",
       "      <th></th>\n",
       "      <th></th>\n",
       "      <th></th>\n",
       "      <th></th>\n",
       "      <th></th>\n",
       "    </tr>\n",
       "  </thead>\n",
       "  <tbody>\n",
       "    <tr>\n",
       "      <th>0</th>\n",
       "      <td>0</td>\n",
       "      <td>2</td>\n",
       "      <td>0</td>\n",
       "      <td>0</td>\n",
       "      <td>1</td>\n",
       "      <td>0</td>\n",
       "      <td>0</td>\n",
       "      <td>0</td>\n",
       "      <td>0</td>\n",
       "      <td>0</td>\n",
       "      <td>...</td>\n",
       "      <td>0</td>\n",
       "      <td>0</td>\n",
       "      <td>0</td>\n",
       "      <td>0</td>\n",
       "      <td>0</td>\n",
       "      <td>0</td>\n",
       "      <td>0</td>\n",
       "      <td>0</td>\n",
       "      <td>0</td>\n",
       "      <td>2</td>\n",
       "    </tr>\n",
       "    <tr>\n",
       "      <th>1</th>\n",
       "      <td>0</td>\n",
       "      <td>20</td>\n",
       "      <td>0</td>\n",
       "      <td>0</td>\n",
       "      <td>0</td>\n",
       "      <td>0</td>\n",
       "      <td>0</td>\n",
       "      <td>0</td>\n",
       "      <td>0</td>\n",
       "      <td>0</td>\n",
       "      <td>...</td>\n",
       "      <td>0</td>\n",
       "      <td>0</td>\n",
       "      <td>0</td>\n",
       "      <td>0</td>\n",
       "      <td>0</td>\n",
       "      <td>0</td>\n",
       "      <td>0</td>\n",
       "      <td>0</td>\n",
       "      <td>0</td>\n",
       "      <td>0</td>\n",
       "    </tr>\n",
       "    <tr>\n",
       "      <th>3</th>\n",
       "      <td>0</td>\n",
       "      <td>10</td>\n",
       "      <td>0</td>\n",
       "      <td>1</td>\n",
       "      <td>0</td>\n",
       "      <td>0</td>\n",
       "      <td>0</td>\n",
       "      <td>0</td>\n",
       "      <td>0</td>\n",
       "      <td>0</td>\n",
       "      <td>...</td>\n",
       "      <td>0</td>\n",
       "      <td>0</td>\n",
       "      <td>0</td>\n",
       "      <td>0</td>\n",
       "      <td>0</td>\n",
       "      <td>0</td>\n",
       "      <td>0</td>\n",
       "      <td>0</td>\n",
       "      <td>0</td>\n",
       "      <td>0</td>\n",
       "    </tr>\n",
       "    <tr>\n",
       "      <th>4</th>\n",
       "      <td>0</td>\n",
       "      <td>12</td>\n",
       "      <td>0</td>\n",
       "      <td>0</td>\n",
       "      <td>0</td>\n",
       "      <td>0</td>\n",
       "      <td>0</td>\n",
       "      <td>0</td>\n",
       "      <td>0</td>\n",
       "      <td>0</td>\n",
       "      <td>...</td>\n",
       "      <td>0</td>\n",
       "      <td>0</td>\n",
       "      <td>0</td>\n",
       "      <td>0</td>\n",
       "      <td>0</td>\n",
       "      <td>0</td>\n",
       "      <td>0</td>\n",
       "      <td>0</td>\n",
       "      <td>0</td>\n",
       "      <td>0</td>\n",
       "    </tr>\n",
       "    <tr>\n",
       "      <th>5</th>\n",
       "      <td>0</td>\n",
       "      <td>5</td>\n",
       "      <td>0</td>\n",
       "      <td>0</td>\n",
       "      <td>0</td>\n",
       "      <td>0</td>\n",
       "      <td>0</td>\n",
       "      <td>0</td>\n",
       "      <td>0</td>\n",
       "      <td>0</td>\n",
       "      <td>...</td>\n",
       "      <td>0</td>\n",
       "      <td>0</td>\n",
       "      <td>0</td>\n",
       "      <td>0</td>\n",
       "      <td>0</td>\n",
       "      <td>0</td>\n",
       "      <td>0</td>\n",
       "      <td>0</td>\n",
       "      <td>0</td>\n",
       "      <td>0</td>\n",
       "    </tr>\n",
       "  </tbody>\n",
       "</table>\n",
       "<p>5 rows × 239 columns</p>\n",
       "</div>"
      ],
      "text/plain": [
       "            Acsl1  Acta2  Ada  Adgrd1  Adgrf5  Adra1a  Adra1b  Adra1d  Adra2a  \\\n",
       "poly_index                                                                      \n",
       "0               0      2    0       0       1       0       0       0       0   \n",
       "1               0     20    0       0       0       0       0       0       0   \n",
       "3               0     10    0       1       0       0       0       0       0   \n",
       "4               0     12    0       0       0       0       0       0       0   \n",
       "5               0      5    0       0       0       0       0       0       0   \n",
       "\n",
       "            Adra2b  ...  Tm4sf4  Tnfrsf21  Tpsb2  Trdc  Trpm5  Tspan13  \\\n",
       "poly_index          ...                                                  \n",
       "0                0  ...       0         0      0     0      0        0   \n",
       "1                0  ...       0         0      0     0      0        0   \n",
       "3                0  ...       0         0      0     0      0        0   \n",
       "4                0  ...       0         0      0     0      0        0   \n",
       "5                0  ...       0         0      0     0      0        0   \n",
       "\n",
       "            Txndc5  Tymp  Vcan  Vim  \n",
       "poly_index                           \n",
       "0                0     0     0    2  \n",
       "1                0     0     0    0  \n",
       "3                0     0     0    0  \n",
       "4                0     0     0    0  \n",
       "5                0     0     0    0  \n",
       "\n",
       "[5 rows x 239 columns]"
      ]
     },
     "execution_count": 37,
     "metadata": {},
     "output_type": "execute_result"
    }
   ],
   "source": [
    "df2 = df[[\"mol_id\", \"poly_index\", \"gene\", \"total_magnitude\"]].pivot_table(index=[\"poly_index\", \"mol_id\"], columns=\"gene\").groupby(\"poly_index\").count()\n",
    "df2.columns = df2.columns.droplevel().rename(None)\n",
    "df2.head()"
   ]
  },
  {
   "cell_type": "code",
   "execution_count": 49,
   "id": "6b6df412",
   "metadata": {},
   "outputs": [
    {
     "name": "stderr",
     "output_type": "stream",
     "text": [
      "/Users/mkeller/anaconda3/envs/vitessce-baysor-env/lib/python3.9/site-packages/anndata/_core/anndata.py:120: ImplicitModificationWarning: Transforming to str index.\n",
      "  warnings.warn(\"Transforming to str index.\", ImplicitModificationWarning)\n"
     ]
    }
   ],
   "source": [
    "X = df2.values\n",
    "obs_df = pd.DataFrame(index=df2.index.values.tolist())\n",
    "var_df = pd.DataFrame(index=df2.columns.values.tolist())\n",
    "\n",
    "adata = AnnData(X=X, obs=obs_df, var=var_df)"
   ]
  },
  {
   "cell_type": "code",
   "execution_count": 43,
   "id": "765c3f2f",
   "metadata": {},
   "outputs": [
    {
     "data": {
      "text/plain": [
       "array([[ 0.,  2.,  0., ...,  0.,  0.,  2.],\n",
       "       [ 0., 20.,  0., ...,  0.,  0.,  0.],\n",
       "       [ 0., 10.,  0., ...,  0.,  0.,  0.],\n",
       "       ...,\n",
       "       [ 0.,  0.,  0., ...,  0.,  0.,  0.],\n",
       "       [ 0.,  0.,  0., ...,  0.,  0.,  1.],\n",
       "       [ 0.,  0.,  0., ...,  0.,  0.,  0.]], dtype=float32)"
      ]
     },
     "execution_count": 43,
     "metadata": {},
     "output_type": "execute_result"
    }
   ],
   "source": [
    "adata.X"
   ]
  },
  {
   "cell_type": "code",
   "execution_count": 44,
   "id": "4b661f31",
   "metadata": {},
   "outputs": [],
   "source": [
    "adata.write_zarr(join(\"data\", \"segmentation.zarr\"))"
   ]
  },
  {
   "cell_type": "code",
   "execution_count": 46,
   "id": "7aab43a6",
   "metadata": {},
   "outputs": [],
   "source": [
    "with open(join(\"data\", \"poly_per_z_0.json\"), \"w\") as f:\n",
    "    json.dump(poly_per_z[0][\"geometries\"], f)"
   ]
  },
  {
   "cell_type": "code",
   "execution_count": null,
   "id": "182ba915",
   "metadata": {},
   "outputs": [],
   "source": []
  },
  {
   "cell_type": "code",
   "execution_count": null,
   "id": "df841dae",
   "metadata": {},
   "outputs": [],
   "source": []
  }
 ],
 "metadata": {
  "kernelspec": {
   "display_name": "Python 3 (ipykernel)",
   "language": "python",
   "name": "python3"
  },
  "language_info": {
   "codemirror_mode": {
    "name": "ipython",
    "version": 3
   },
   "file_extension": ".py",
   "mimetype": "text/x-python",
   "name": "python",
   "nbconvert_exporter": "python",
   "pygments_lexer": "ipython3",
   "version": "3.9.6"
  }
 },
 "nbformat": 4,
 "nbformat_minor": 5
}
