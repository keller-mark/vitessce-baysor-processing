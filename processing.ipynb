{
 "cells": [
  {
   "cell_type": "code",
   "execution_count": 1,
   "id": "cc82c8b3",
   "metadata": {},
   "outputs": [],
   "source": [
    "import json\n",
    "import pandas as pd\n",
    "import numpy as np\n",
    "from anndata import AnnData\n",
    "from os.path import join\n",
    "import geopandas as gpd\n",
    "from shapely.geometry import Point, Polygon, MultiPoint, MultiPolygon, shape"
   ]
  },
  {
   "cell_type": "code",
   "execution_count": 2,
   "id": "3219b41e",
   "metadata": {},
   "outputs": [],
   "source": [
    "df = pd.read_csv(join(\"data\", \"segmentation.csv\"))"
   ]
  },
  {
   "cell_type": "code",
   "execution_count": 3,
   "id": "27aaa39a",
   "metadata": {},
   "outputs": [],
   "source": [
    "with open(join(\"data\", \"poly_per_z.json\")) as f:\n",
    "    poly_per_z = json.load(f)"
   ]
  },
  {
   "cell_type": "code",
   "execution_count": 4,
   "id": "60f5a372",
   "metadata": {},
   "outputs": [
    {
     "data": {
      "text/html": [
       "<div>\n",
       "<style scoped>\n",
       "    .dataframe tbody tr th:only-of-type {\n",
       "        vertical-align: middle;\n",
       "    }\n",
       "\n",
       "    .dataframe tbody tr th {\n",
       "        vertical-align: top;\n",
       "    }\n",
       "\n",
       "    .dataframe thead th {\n",
       "        text-align: right;\n",
       "    }\n",
       "</style>\n",
       "<table border=\"1\" class=\"dataframe\">\n",
       "  <thead>\n",
       "    <tr style=\"text-align: right;\">\n",
       "      <th></th>\n",
       "      <th>mol_id</th>\n",
       "      <th>x_raw</th>\n",
       "      <th>y_raw</th>\n",
       "      <th>z_raw</th>\n",
       "      <th>gene</th>\n",
       "      <th>area</th>\n",
       "      <th>brightness</th>\n",
       "      <th>total_magnitude</th>\n",
       "      <th>qc_score</th>\n",
       "      <th>x</th>\n",
       "      <th>y</th>\n",
       "      <th>z</th>\n",
       "      <th>molecule_id</th>\n",
       "      <th>confidence</th>\n",
       "      <th>compartment</th>\n",
       "      <th>nuclei_probs</th>\n",
       "      <th>cell</th>\n",
       "      <th>assignment_confidence</th>\n",
       "      <th>is_noise</th>\n",
       "      <th>ncv_color</th>\n",
       "    </tr>\n",
       "  </thead>\n",
       "  <tbody>\n",
       "    <tr>\n",
       "      <th>0</th>\n",
       "      <td>3048145</td>\n",
       "      <td>-2935.386</td>\n",
       "      <td>-1218.580</td>\n",
       "      <td>2.5</td>\n",
       "      <td>Maoa</td>\n",
       "      <td>4</td>\n",
       "      <td>2.021306</td>\n",
       "      <td>420.1126</td>\n",
       "      <td>0.954363</td>\n",
       "      <td>1705.0</td>\n",
       "      <td>1271.0</td>\n",
       "      <td>0.0</td>\n",
       "      <td>1</td>\n",
       "      <td>0.80133</td>\n",
       "      <td>Unknown</td>\n",
       "      <td>1.0</td>\n",
       "      <td>75</td>\n",
       "      <td>0.625</td>\n",
       "      <td>False</td>\n",
       "      <td>#A1750D</td>\n",
       "    </tr>\n",
       "    <tr>\n",
       "      <th>1</th>\n",
       "      <td>3048147</td>\n",
       "      <td>-2933.229</td>\n",
       "      <td>-1147.614</td>\n",
       "      <td>2.5</td>\n",
       "      <td>Maoa</td>\n",
       "      <td>4</td>\n",
       "      <td>1.828640</td>\n",
       "      <td>269.5874</td>\n",
       "      <td>0.908246</td>\n",
       "      <td>1725.0</td>\n",
       "      <td>1922.0</td>\n",
       "      <td>0.0</td>\n",
       "      <td>2</td>\n",
       "      <td>1.00000</td>\n",
       "      <td>Unknown</td>\n",
       "      <td>1.0</td>\n",
       "      <td>189</td>\n",
       "      <td>0.950</td>\n",
       "      <td>False</td>\n",
       "      <td>#605211</td>\n",
       "    </tr>\n",
       "    <tr>\n",
       "      <th>2</th>\n",
       "      <td>3048148</td>\n",
       "      <td>-2930.104</td>\n",
       "      <td>-1154.062</td>\n",
       "      <td>2.5</td>\n",
       "      <td>Maoa</td>\n",
       "      <td>5</td>\n",
       "      <td>2.001268</td>\n",
       "      <td>501.4615</td>\n",
       "      <td>0.977219</td>\n",
       "      <td>1753.0</td>\n",
       "      <td>1863.0</td>\n",
       "      <td>0.0</td>\n",
       "      <td>3</td>\n",
       "      <td>1.00000</td>\n",
       "      <td>Unknown</td>\n",
       "      <td>1.0</td>\n",
       "      <td>188</td>\n",
       "      <td>1.000</td>\n",
       "      <td>False</td>\n",
       "      <td>#615210</td>\n",
       "    </tr>\n",
       "    <tr>\n",
       "      <th>3</th>\n",
       "      <td>3048149</td>\n",
       "      <td>-2929.339</td>\n",
       "      <td>-1153.784</td>\n",
       "      <td>2.5</td>\n",
       "      <td>Maoa</td>\n",
       "      <td>7</td>\n",
       "      <td>1.960428</td>\n",
       "      <td>639.0364</td>\n",
       "      <td>0.991316</td>\n",
       "      <td>1760.0</td>\n",
       "      <td>1865.0</td>\n",
       "      <td>0.0</td>\n",
       "      <td>4</td>\n",
       "      <td>1.00000</td>\n",
       "      <td>Unknown</td>\n",
       "      <td>1.0</td>\n",
       "      <td>188</td>\n",
       "      <td>1.000</td>\n",
       "      <td>False</td>\n",
       "      <td>#605212</td>\n",
       "    </tr>\n",
       "    <tr>\n",
       "      <th>4</th>\n",
       "      <td>3048153</td>\n",
       "      <td>-2913.718</td>\n",
       "      <td>-1270.474</td>\n",
       "      <td>2.5</td>\n",
       "      <td>Maoa</td>\n",
       "      <td>6</td>\n",
       "      <td>1.937280</td>\n",
       "      <td>519.3154</td>\n",
       "      <td>0.983210</td>\n",
       "      <td>1904.0</td>\n",
       "      <td>794.0</td>\n",
       "      <td>0.0</td>\n",
       "      <td>5</td>\n",
       "      <td>0.33546</td>\n",
       "      <td>Unknown</td>\n",
       "      <td>1.0</td>\n",
       "      <td>0</td>\n",
       "      <td>0.575</td>\n",
       "      <td>True</td>\n",
       "      <td>#EBE2C7</td>\n",
       "    </tr>\n",
       "  </tbody>\n",
       "</table>\n",
       "</div>"
      ],
      "text/plain": [
       "    mol_id     x_raw     y_raw  z_raw  gene  area  brightness  \\\n",
       "0  3048145 -2935.386 -1218.580    2.5  Maoa     4    2.021306   \n",
       "1  3048147 -2933.229 -1147.614    2.5  Maoa     4    1.828640   \n",
       "2  3048148 -2930.104 -1154.062    2.5  Maoa     5    2.001268   \n",
       "3  3048149 -2929.339 -1153.784    2.5  Maoa     7    1.960428   \n",
       "4  3048153 -2913.718 -1270.474    2.5  Maoa     6    1.937280   \n",
       "\n",
       "   total_magnitude  qc_score       x       y    z  molecule_id  confidence  \\\n",
       "0         420.1126  0.954363  1705.0  1271.0  0.0            1     0.80133   \n",
       "1         269.5874  0.908246  1725.0  1922.0  0.0            2     1.00000   \n",
       "2         501.4615  0.977219  1753.0  1863.0  0.0            3     1.00000   \n",
       "3         639.0364  0.991316  1760.0  1865.0  0.0            4     1.00000   \n",
       "4         519.3154  0.983210  1904.0   794.0  0.0            5     0.33546   \n",
       "\n",
       "  compartment  nuclei_probs  cell  assignment_confidence  is_noise ncv_color  \n",
       "0     Unknown           1.0    75                  0.625     False   #A1750D  \n",
       "1     Unknown           1.0   189                  0.950     False   #605211  \n",
       "2     Unknown           1.0   188                  1.000     False   #615210  \n",
       "3     Unknown           1.0   188                  1.000     False   #605212  \n",
       "4     Unknown           1.0     0                  0.575      True   #EBE2C7  "
      ]
     },
     "execution_count": 4,
     "metadata": {},
     "output_type": "execute_result"
    }
   ],
   "source": [
    "df.head()"
   ]
  },
  {
   "cell_type": "code",
   "execution_count": 5,
   "id": "c232540d-98fb-4d21-8bfa-d59ee3830dc9",
   "metadata": {},
   "outputs": [],
   "source": [
    "df = df.loc[~df[\"is_noise\"]]"
   ]
  },
  {
   "cell_type": "code",
   "execution_count": 6,
   "id": "6fef8e46",
   "metadata": {},
   "outputs": [
    {
     "data": {
      "text/plain": [
       "{0.0: 0,\n",
       " 13.768190639243825: 1,\n",
       " 27.53638127848765: 2,\n",
       " 41.304571917731465: 3,\n",
       " 55.07276255697529: 4,\n",
       " 68.84095319621912: 5,\n",
       " 82.60914383546293: 6,\n",
       " 96.37733447470676: 7,\n",
       " 110.14552511395058: 8}"
      ]
     },
     "execution_count": 6,
     "metadata": {},
     "output_type": "execute_result"
    }
   ],
   "source": [
    "z_vals = sorted(df[\"z\"].unique())\n",
    "z_to_z_index = dict(zip(z_vals, range(len(z_vals))))\n",
    "z_to_z_index"
   ]
  },
  {
   "cell_type": "code",
   "execution_count": 7,
   "id": "d60002ee",
   "metadata": {},
   "outputs": [],
   "source": [
    "df[\"z_index\"] = df[\"z\"].apply(lambda z: z_to_z_index[z])"
   ]
  },
  {
   "cell_type": "code",
   "execution_count": 8,
   "id": "8a12881a-40a4-402c-919e-032e9ad3b50a",
   "metadata": {},
   "outputs": [
    {
     "name": "stderr",
     "output_type": "stream",
     "text": [
      "/Users/mkeller/anaconda3/envs/vitessce-baysor-env/lib/python3.9/site-packages/geopandas/geodataframe.py:1322: SettingWithCopyWarning: \n",
      "A value is trying to be set on a copy of a slice from a DataFrame.\n",
      "Try using .loc[row_indexer,col_indexer] = value instead\n",
      "\n",
      "See the caveats in the documentation: https://pandas.pydata.org/pandas-docs/stable/user_guide/indexing.html#returning-a-view-versus-a-copy\n",
      "  super(GeoDataFrame, self).__setitem__(key, value)\n"
     ]
    }
   ],
   "source": [
    "full_df = None\n",
    "\n",
    "for z_index, mol_slice_df in df.groupby(\"z_index\"):\n",
    "    # Take a single Z slice\n",
    "    poly_slice = poly_per_z[z_index][\"geometries\"]\n",
    "\n",
    "    mol_geometry = gpd.points_from_xy(x=mol_slice_df[\"x\"], y=mol_slice_df[\"y\"])\n",
    "\n",
    "    mol_slice_gdf = gpd.GeoDataFrame(mol_slice_df, geometry=mol_geometry)\n",
    "    mol_slice_gdf;\n",
    "    \n",
    "    poly_slice_gdf = gpd.GeoDataFrame(geometry=[ shape(x) for x in poly_slice ])\n",
    "    poly_slice_gdf;\n",
    "    \n",
    "    # Join the molecule points with their intersecting polygons.\n",
    "    mol_with_poly_gdf = gpd.sjoin(mol_slice_gdf, poly_slice_gdf, how=\"left\", op=\"intersects\")\n",
    "    mol_with_poly_gdf = mol_with_poly_gdf.rename(columns={\"index_right\": \"poly_index\"})\n",
    "    \n",
    "    if full_df is None:\n",
    "        full_df = mol_with_poly_gdf\n",
    "    else:\n",
    "        full_df = full_df.append(mol_with_poly_gdf)\n",
    "\n",
    "df = full_df\n",
    "\n",
    "df = df.loc[pd.notna(df[\"poly_index\"])]\n",
    "df[\"poly_index\"] = df[\"poly_index\"].astype(int)"
   ]
  },
  {
   "cell_type": "markdown",
   "id": "bea54edd",
   "metadata": {},
   "source": [
    "## Unmelt to get per-cell molecule counts (sum over all z slices)"
   ]
  },
  {
   "cell_type": "code",
   "execution_count": 9,
   "id": "68450395",
   "metadata": {},
   "outputs": [
    {
     "data": {
      "text/html": [
       "<div>\n",
       "<style scoped>\n",
       "    .dataframe tbody tr th:only-of-type {\n",
       "        vertical-align: middle;\n",
       "    }\n",
       "\n",
       "    .dataframe tbody tr th {\n",
       "        vertical-align: top;\n",
       "    }\n",
       "\n",
       "    .dataframe thead th {\n",
       "        text-align: right;\n",
       "    }\n",
       "</style>\n",
       "<table border=\"1\" class=\"dataframe\">\n",
       "  <thead>\n",
       "    <tr style=\"text-align: right;\">\n",
       "      <th></th>\n",
       "      <th>Acsl1</th>\n",
       "      <th>Acta2</th>\n",
       "      <th>Ada</th>\n",
       "      <th>Adgrd1</th>\n",
       "      <th>Adgrf5</th>\n",
       "      <th>Adra1a</th>\n",
       "      <th>Adra1b</th>\n",
       "      <th>Adra1d</th>\n",
       "      <th>Adra2a</th>\n",
       "      <th>Adra2b</th>\n",
       "      <th>...</th>\n",
       "      <th>Tm4sf4</th>\n",
       "      <th>Tnfrsf21</th>\n",
       "      <th>Tpsb2</th>\n",
       "      <th>Trdc</th>\n",
       "      <th>Trpm5</th>\n",
       "      <th>Tspan13</th>\n",
       "      <th>Txndc5</th>\n",
       "      <th>Tymp</th>\n",
       "      <th>Vcan</th>\n",
       "      <th>Vim</th>\n",
       "    </tr>\n",
       "    <tr>\n",
       "      <th>poly_index</th>\n",
       "      <th></th>\n",
       "      <th></th>\n",
       "      <th></th>\n",
       "      <th></th>\n",
       "      <th></th>\n",
       "      <th></th>\n",
       "      <th></th>\n",
       "      <th></th>\n",
       "      <th></th>\n",
       "      <th></th>\n",
       "      <th></th>\n",
       "      <th></th>\n",
       "      <th></th>\n",
       "      <th></th>\n",
       "      <th></th>\n",
       "      <th></th>\n",
       "      <th></th>\n",
       "      <th></th>\n",
       "      <th></th>\n",
       "      <th></th>\n",
       "      <th></th>\n",
       "    </tr>\n",
       "  </thead>\n",
       "  <tbody>\n",
       "    <tr>\n",
       "      <th>0</th>\n",
       "      <td>0</td>\n",
       "      <td>9</td>\n",
       "      <td>0</td>\n",
       "      <td>0</td>\n",
       "      <td>1</td>\n",
       "      <td>0</td>\n",
       "      <td>0</td>\n",
       "      <td>0</td>\n",
       "      <td>0</td>\n",
       "      <td>0</td>\n",
       "      <td>...</td>\n",
       "      <td>0</td>\n",
       "      <td>1</td>\n",
       "      <td>0</td>\n",
       "      <td>0</td>\n",
       "      <td>0</td>\n",
       "      <td>0</td>\n",
       "      <td>0</td>\n",
       "      <td>0</td>\n",
       "      <td>0</td>\n",
       "      <td>7</td>\n",
       "    </tr>\n",
       "    <tr>\n",
       "      <th>1</th>\n",
       "      <td>0</td>\n",
       "      <td>130</td>\n",
       "      <td>0</td>\n",
       "      <td>2</td>\n",
       "      <td>0</td>\n",
       "      <td>0</td>\n",
       "      <td>0</td>\n",
       "      <td>0</td>\n",
       "      <td>0</td>\n",
       "      <td>2</td>\n",
       "      <td>...</td>\n",
       "      <td>0</td>\n",
       "      <td>0</td>\n",
       "      <td>0</td>\n",
       "      <td>0</td>\n",
       "      <td>0</td>\n",
       "      <td>0</td>\n",
       "      <td>1</td>\n",
       "      <td>0</td>\n",
       "      <td>0</td>\n",
       "      <td>5</td>\n",
       "    </tr>\n",
       "    <tr>\n",
       "      <th>2</th>\n",
       "      <td>0</td>\n",
       "      <td>47</td>\n",
       "      <td>0</td>\n",
       "      <td>2</td>\n",
       "      <td>0</td>\n",
       "      <td>0</td>\n",
       "      <td>0</td>\n",
       "      <td>0</td>\n",
       "      <td>0</td>\n",
       "      <td>0</td>\n",
       "      <td>...</td>\n",
       "      <td>0</td>\n",
       "      <td>0</td>\n",
       "      <td>0</td>\n",
       "      <td>0</td>\n",
       "      <td>0</td>\n",
       "      <td>0</td>\n",
       "      <td>0</td>\n",
       "      <td>0</td>\n",
       "      <td>0</td>\n",
       "      <td>7</td>\n",
       "    </tr>\n",
       "    <tr>\n",
       "      <th>3</th>\n",
       "      <td>2</td>\n",
       "      <td>56</td>\n",
       "      <td>0</td>\n",
       "      <td>3</td>\n",
       "      <td>0</td>\n",
       "      <td>0</td>\n",
       "      <td>0</td>\n",
       "      <td>0</td>\n",
       "      <td>1</td>\n",
       "      <td>0</td>\n",
       "      <td>...</td>\n",
       "      <td>1</td>\n",
       "      <td>0</td>\n",
       "      <td>0</td>\n",
       "      <td>0</td>\n",
       "      <td>0</td>\n",
       "      <td>1</td>\n",
       "      <td>4</td>\n",
       "      <td>0</td>\n",
       "      <td>0</td>\n",
       "      <td>7</td>\n",
       "    </tr>\n",
       "    <tr>\n",
       "      <th>4</th>\n",
       "      <td>0</td>\n",
       "      <td>72</td>\n",
       "      <td>0</td>\n",
       "      <td>1</td>\n",
       "      <td>0</td>\n",
       "      <td>0</td>\n",
       "      <td>0</td>\n",
       "      <td>0</td>\n",
       "      <td>0</td>\n",
       "      <td>0</td>\n",
       "      <td>...</td>\n",
       "      <td>0</td>\n",
       "      <td>0</td>\n",
       "      <td>0</td>\n",
       "      <td>0</td>\n",
       "      <td>0</td>\n",
       "      <td>0</td>\n",
       "      <td>0</td>\n",
       "      <td>0</td>\n",
       "      <td>0</td>\n",
       "      <td>4</td>\n",
       "    </tr>\n",
       "  </tbody>\n",
       "</table>\n",
       "<p>5 rows × 241 columns</p>\n",
       "</div>"
      ],
      "text/plain": [
       "            Acsl1  Acta2  Ada  Adgrd1  Adgrf5  Adra1a  Adra1b  Adra1d  Adra2a  \\\n",
       "poly_index                                                                      \n",
       "0               0      9    0       0       1       0       0       0       0   \n",
       "1               0    130    0       2       0       0       0       0       0   \n",
       "2               0     47    0       2       0       0       0       0       0   \n",
       "3               2     56    0       3       0       0       0       0       1   \n",
       "4               0     72    0       1       0       0       0       0       0   \n",
       "\n",
       "            Adra2b  ...  Tm4sf4  Tnfrsf21  Tpsb2  Trdc  Trpm5  Tspan13  \\\n",
       "poly_index          ...                                                  \n",
       "0                0  ...       0         1      0     0      0        0   \n",
       "1                2  ...       0         0      0     0      0        0   \n",
       "2                0  ...       0         0      0     0      0        0   \n",
       "3                0  ...       1         0      0     0      0        1   \n",
       "4                0  ...       0         0      0     0      0        0   \n",
       "\n",
       "            Txndc5  Tymp  Vcan  Vim  \n",
       "poly_index                           \n",
       "0                0     0     0    7  \n",
       "1                1     0     0    5  \n",
       "2                0     0     0    7  \n",
       "3                4     0     0    7  \n",
       "4                0     0     0    4  \n",
       "\n",
       "[5 rows x 241 columns]"
      ]
     },
     "execution_count": 9,
     "metadata": {},
     "output_type": "execute_result"
    }
   ],
   "source": [
    "df2 = df[[\"mol_id\", \"poly_index\", \"gene\", \"total_magnitude\"]].pivot_table(index=[\"poly_index\", \"mol_id\"], columns=\"gene\").groupby(\"poly_index\").count()\n",
    "df2.columns = df2.columns.droplevel().rename(None)\n",
    "df2.head()"
   ]
  },
  {
   "cell_type": "code",
   "execution_count": 11,
   "id": "6b6df412",
   "metadata": {},
   "outputs": [
    {
     "name": "stderr",
     "output_type": "stream",
     "text": [
      "/Users/mkeller/anaconda3/envs/vitessce-baysor-env/lib/python3.9/site-packages/anndata/_core/anndata.py:120: ImplicitModificationWarning: Transforming to str index.\n",
      "  warnings.warn(\"Transforming to str index.\", ImplicitModificationWarning)\n"
     ]
    }
   ],
   "source": [
    "X = df2.values\n",
    "obs_df = pd.DataFrame(index=df2.index.values.tolist())\n",
    "var_df = pd.DataFrame(index=df2.columns.values.tolist())\n",
    "\n",
    "cell_adata = AnnData(X=X, obs=obs_df, var=var_df)"
   ]
  },
  {
   "cell_type": "code",
   "execution_count": null,
   "id": "23a9fc66-08be-4f7e-a2c8-aef30f836a37",
   "metadata": {},
   "outputs": [],
   "source": [
    "cell_adata"
   ]
  },
  {
   "cell_type": "code",
   "execution_count": null,
   "id": "765c3f2f",
   "metadata": {},
   "outputs": [],
   "source": [
    "cell_adata.X"
   ]
  },
  {
   "cell_type": "code",
   "execution_count": 12,
   "id": "4b661f31",
   "metadata": {},
   "outputs": [],
   "source": [
    "cell_adata.write_zarr(join(\"data\", \"cells.zarr\"));"
   ]
  },
  {
   "cell_type": "markdown",
   "id": "dc63f310-d1a1-496a-8ce2-82111261926d",
   "metadata": {},
   "source": [
    "## Use anndata for molecules"
   ]
  },
  {
   "cell_type": "code",
   "execution_count": 13,
   "id": "880054ab-0d45-4758-9d92-dea0c814c318",
   "metadata": {},
   "outputs": [
    {
     "data": {
      "text/plain": [
       "(782675, 23)"
      ]
     },
     "execution_count": 13,
     "metadata": {},
     "output_type": "execute_result"
    }
   ],
   "source": [
    "df.shape"
   ]
  },
  {
   "cell_type": "code",
   "execution_count": 14,
   "id": "5502e84a-5d15-4682-a77a-5e8e365db379",
   "metadata": {},
   "outputs": [
    {
     "name": "stderr",
     "output_type": "stream",
     "text": [
      "/Users/mkeller/anaconda3/envs/vitessce-baysor-env/lib/python3.9/site-packages/geopandas/geodataframe.py:1322: SettingWithCopyWarning: \n",
      "A value is trying to be set on a copy of a slice from a DataFrame.\n",
      "Try using .loc[row_indexer,col_indexer] = value instead\n",
      "\n",
      "See the caveats in the documentation: https://pandas.pydata.org/pandas-docs/stable/user_guide/indexing.html#returning-a-view-versus-a-copy\n",
      "  super(GeoDataFrame, self).__setitem__(key, value)\n"
     ]
    }
   ],
   "source": [
    "df[\"r\"] = df[\"ncv_color\"].apply(lambda hex_color: int(hex_color[1:3], 16))\n",
    "df[\"g\"] = df[\"ncv_color\"].apply(lambda hex_color: int(hex_color[3:5], 16))\n",
    "df[\"b\"] = df[\"ncv_color\"].apply(lambda hex_color: int(hex_color[5:7], 16))"
   ]
  },
  {
   "cell_type": "code",
   "execution_count": null,
   "id": "9a1a907f-fa6d-42d0-a016-2c36ac8cd2f3",
   "metadata": {},
   "outputs": [],
   "source": []
  },
  {
   "cell_type": "code",
   "execution_count": 15,
   "id": "df841dae",
   "metadata": {},
   "outputs": [
    {
     "name": "stderr",
     "output_type": "stream",
     "text": [
      "Observation names are not unique. To make them unique, call `.obs_names_make_unique`.\n"
     ]
    }
   ],
   "source": [
    "obsm = {\n",
    " \"spatial\": df[[\"x\", \"y\", \"z\"]].values,\n",
    " \"rgb\": df[[\"r\", \"g\", \"b\"]].values.astype('uint8'),\n",
    "}\n",
    "\n",
    "X = np.zeros((df.shape[0], 0))\n",
    "var_df = pd.DataFrame(data=[])\n",
    "obs_df = pd.DataFrame(index=df[\"molecule_id\"].values.tolist(), data=df[[\"poly_index\", \"gene\"]].values, columns=[\"cell_id\", \"gene_id\"])\n",
    "obs_df[\"cell_id\"] = obs_df[\"cell_id\"].astype(int)\n",
    "mol_adata = AnnData(X=None, obs=obs_df, obsm=obsm, var=None)"
   ]
  },
  {
   "cell_type": "code",
   "execution_count": 16,
   "id": "f75642ca-cae4-4e34-b9bd-2dbd9f0e955a",
   "metadata": {},
   "outputs": [
    {
     "name": "stderr",
     "output_type": "stream",
     "text": [
      "/Users/mkeller/anaconda3/envs/vitessce-baysor-env/lib/python3.9/site-packages/anndata/_core/anndata.py:1220: FutureWarning: The `inplace` parameter in pandas.Categorical.reorder_categories is deprecated and will be removed in a future version. Removing unused categories will always return a new Categorical object.\n",
      "  c.reorder_categories(natsorted(c.categories), inplace=True)\n",
      "... storing 'gene_id' as categorical\n"
     ]
    }
   ],
   "source": [
    "mol_adata.write_zarr(join(\"data\", \"molecules.zarr\"))"
   ]
  },
  {
   "cell_type": "code",
   "execution_count": null,
   "id": "3c66887d-3040-4765-886f-c64b6cb4d00f",
   "metadata": {},
   "outputs": [],
   "source": []
  },
  {
   "cell_type": "code",
   "execution_count": null,
   "id": "267dbbc0-6b62-4973-83e8-515c4f6d5352",
   "metadata": {},
   "outputs": [],
   "source": []
  }
 ],
 "metadata": {
  "kernelspec": {
   "display_name": "Python 3 (ipykernel)",
   "language": "python",
   "name": "python3"
  },
  "language_info": {
   "codemirror_mode": {
    "name": "ipython",
    "version": 3
   },
   "file_extension": ".py",
   "mimetype": "text/x-python",
   "name": "python",
   "nbconvert_exporter": "python",
   "pygments_lexer": "ipython3",
   "version": "3.9.6"
  }
 },
 "nbformat": 4,
 "nbformat_minor": 5
}
